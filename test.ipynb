{
 "cells": [
  {
   "cell_type": "code",
   "execution_count": 5,
   "metadata": {},
   "outputs": [
    {
     "name": "stderr",
     "output_type": "stream",
     "text": [
      "Special tokens have been added in the vocabulary, make sure the associated word embeddings are fine-tuned or trained.\n"
     ]
    },
    {
     "data": {
      "text/plain": [
       "\"To find $sinA$, we first need to understand the relationship between the sides and angles of the triangle and apply the Pythagorean theorem. Let's derive $sinA$ using these properties.\\n\\nGiven that $a = 8$, $b = 15$, and $c = 17$, we apply the Pythagorean theorem to $\\\\triangle ABC$:\\n\\n\\\\[a^2 + b^2 = c^2\\\\]\\n\\nSubstituting the given values:\\n\\n\\\\[8^2 + 15^2 = c^2\\\\]\\n\\\\[64 + 225 = c^2\\\\]\\n\\\\[289 = c^2\\\\]\\n\\nThus, $c = 17$ (as the other side).\\n\\nNext, we want to find $sinA$. Since $\\\\triangle ABC$ is a right-angled triangle (by the Pythagorean theorem), we can use the right triangle principle. In this case, the angle $A$ opposite side $a$ is not $90^\\\\circ$ (because $a$ is smaller than the other two sides), so the correct trigonometric function to use is $\\\\sinA$.\\n\\nNow, let's find $sinA$:\\n\\n\\\\[sinA = sinB\\\\]\\n\\nTherefore,\\n\\n\\\\[sinA = \\\\frac{B}{c} = \\\\frac{b}{c} = \\\\frac{15}{17}\\\\]\\n\\nSo, $sinA = \\\\frac{15}{17}$.<|im_end|>\""
      ]
     },
     "execution_count": 5,
     "metadata": {},
     "output_type": "execute_result"
    }
   ],
   "source": [
    "from transformers import AutoTokenizer\n",
    "\n",
    "tokenizer = AutoTokenizer.from_pretrained(\"/mnt/bn/lga/projects/os/DEV/verl/Qwen2-VL-2B-Instruct\")\n",
    "a = [1249, 1477, 400, 15940, 32, 54876, 582, 1156, 1184, 311, 3535, 279, 5025, 1948, 279, 11067, 323, 25941, 315, 279, 21495, 323, 3796, 279, 5355, 95362, 45195, 57817, 13, 6771, 594, 42430, 400, 15940, 32, 3, 1667, 1493, 5888, 382, 22043, 429, 400, 64, 284, 220, 23, 54876, 400, 65, 284, 220, 16, 20, 54876, 323, 400, 66, 284, 220, 16, 22, 54876, 582, 3796, 279, 5355, 95362, 45195, 57817, 311, 57960, 55114, 19360, 3, 1447, 78045, 64, 61, 17, 488, 293, 61, 17, 284, 272, 61, 17, 59, 2533, 3136, 3696, 10607, 279, 2661, 2750, 1447, 78045, 23, 61, 17, 488, 220, 16, 20, 61, 17, 284, 272, 61, 17, 59, 921, 78045, 21, 19, 488, 220, 17, 17, 20, 284, 272, 61, 17, 59, 921, 78045, 17, 23, 24, 284, 272, 61, 17, 59, 2533, 44500, 11, 400, 66, 284, 220, 16, 22, 3, 320, 300, 279, 1008, 3108, 3593, 5847, 11, 582, 1366, 311, 1477, 400, 15940, 32, 12947, 8704, 57960, 55114, 19360, 3, 374, 264, 1290, 12, 38940, 21495, 320, 1694, 279, 5355, 95362, 45195, 57817, 701, 582, 646, 990, 279, 1290, 21495, 17508, 13, 758, 419, 1142, 11, 279, 9210, 400, 32, 3, 14002, 3108, 400, 64, 3, 374, 537, 400, 24, 15, 24884, 43298, 3, 320, 27653, 400, 64, 3, 374, 9155, 1091, 279, 1008, 1378, 11067, 701, 773, 279, 4396, 52933, 263, 23375, 729, 311, 990, 374, 57960, 15940, 32, 3, 382, 7039, 11, 1077, 594, 1477, 400, 15940, 32, 3, 1447, 78045, 15940, 32, 284, 7437, 33, 59, 2533, 54815, 3554, 78045, 15940, 32, 284, 1124, 37018, 90, 33, 15170, 66, 92, 284, 1124, 37018, 90, 65, 15170, 66, 92, 284, 1124, 37018, 90, 16, 20, 15170, 16, 22, 11035, 2533, 4416, 11, 400, 15940, 32, 284, 1124, 37018, 90, 16, 20, 15170, 16, 22, 92, 12947, 151645]\n",
    "tokenizer.decode(a)"
   ]
  },
  {
   "cell_type": "code",
   "execution_count": 3,
   "metadata": {},
   "outputs": [
    {
     "data": {
      "text/plain": [
       "'<|im_start|>system\\nYou are a helpful assistant.<|im_end|>\\n<|im_start|>user\\n<image>In $\\\\odot M$, $FL=24,HJ=48$, and $m \\\\widehat {HP}=65$. Find $m \\\\widehat {PJ}$.<|im_end|>\\n<|im_start|>assistant\\n'"
      ]
     },
     "execution_count": 3,
     "metadata": {},
     "output_type": "execute_result"
    }
   ],
   "source": [
    "chat={\"role\":\"user\",\"content\":\"<image>In $\\odot M$, $FL=24,HJ=48$, and $m \\widehat {HP}=65$. Find $m \\widehat {PJ}$.\"}]\n",
    "tokenizer.apply_chat_template(chat, add_generation_prompt=True, tokenize=False)"
   ]
  },
  {
   "cell_type": "code",
   "execution_count": 1,
   "metadata": {},
   "outputs": [
    {
     "ename": "Exception",
     "evalue": "The following builds were found, but had missing dependencies. Only one valid platform is required to run AI2-THOR.\nPlatform Linux64 failed validation with the following errors: No valid X display found\n  Linux64 requires a X11 server to be running with GLX. If you have a NVIDIA GPU, please run: sudo ai2thor-xorg start",
     "output_type": "error",
     "traceback": [
      "\u001b[0;31m---------------------------------------------------------------------------\u001b[0m",
      "\u001b[0;31mException\u001b[0m                                 Traceback (most recent call last)",
      "Cell \u001b[0;32mIn[1], line 2\u001b[0m\n\u001b[1;32m      1\u001b[0m \u001b[38;5;28;01mfrom\u001b[39;00m\u001b[38;5;250m \u001b[39m\u001b[38;5;21;01mai2thor\u001b[39;00m\u001b[38;5;21;01m.\u001b[39;00m\u001b[38;5;21;01mcontroller\u001b[39;00m\u001b[38;5;250m \u001b[39m\u001b[38;5;28;01mimport\u001b[39;00m Controller\n\u001b[0;32m----> 2\u001b[0m controller \u001b[38;5;241m=\u001b[39m \u001b[43mController\u001b[49m\u001b[43m(\u001b[49m\u001b[43m)\u001b[49m\n\u001b[1;32m      3\u001b[0m event \u001b[38;5;241m=\u001b[39m controller\u001b[38;5;241m.\u001b[39mstep(\u001b[38;5;124m\"\u001b[39m\u001b[38;5;124mMoveAhead\u001b[39m\u001b[38;5;124m\"\u001b[39m)\n",
      "File \u001b[0;32m~/.persistent/env/verl/lib/python3.10/site-packages/ai2thor/controller.py:513\u001b[0m, in \u001b[0;36mController.__init__\u001b[0;34m(self, quality, fullscreen, headless, port, start_unity, local_executable_path, local_build, commit_id, branch, width, height, x_display, host, scene, image_dir, save_image_per_frame, depth_format, add_depth_noise, download_only, include_private_scenes, server_class, gpu_device, platform, server_timeout, server_start_timeout, **unity_initialization_parameters)\u001b[0m\n\u001b[1;32m    511\u001b[0m     \u001b[38;5;28mself\u001b[39m\u001b[38;5;241m.\u001b[39m_build \u001b[38;5;241m=\u001b[39m ai2thor\u001b[38;5;241m.\u001b[39mbuild\u001b[38;5;241m.\u001b[39mExternalBuild(local_executable_path)\n\u001b[1;32m    512\u001b[0m \u001b[38;5;28;01melse\u001b[39;00m:\n\u001b[0;32m--> 513\u001b[0m     \u001b[38;5;28mself\u001b[39m\u001b[38;5;241m.\u001b[39m_build \u001b[38;5;241m=\u001b[39m \u001b[38;5;28;43mself\u001b[39;49m\u001b[38;5;241;43m.\u001b[39;49m\u001b[43mfind_build\u001b[49m\u001b[43m(\u001b[49m\u001b[43mlocal_build\u001b[49m\u001b[43m,\u001b[49m\u001b[43m \u001b[49m\u001b[43mcommit_id\u001b[49m\u001b[43m,\u001b[49m\u001b[43m \u001b[49m\u001b[43mbranch\u001b[49m\u001b[43m,\u001b[49m\u001b[43m \u001b[49m\u001b[43mplatform\u001b[49m\u001b[43m)\u001b[49m\n\u001b[1;32m    515\u001b[0m \u001b[38;5;28mself\u001b[39m\u001b[38;5;241m.\u001b[39m_build\u001b[38;5;241m.\u001b[39mdownload()\n\u001b[1;32m    517\u001b[0m \u001b[38;5;28;01mif\u001b[39;00m \u001b[38;5;129;01mnot\u001b[39;00m download_only:\n",
      "File \u001b[0;32m~/.persistent/env/verl/lib/python3.10/site-packages/ai2thor/controller.py:1352\u001b[0m, in \u001b[0;36mController.find_build\u001b[0;34m(self, local_build, commit_id, branch, platform)\u001b[0m\n\u001b[1;32m   1350\u001b[0m         message \u001b[38;5;241m+\u001b[39m\u001b[38;5;241m=\u001b[39m instructions\n\u001b[1;32m   1351\u001b[0m     error_messages\u001b[38;5;241m.\u001b[39mappend(message)\n\u001b[0;32m-> 1352\u001b[0m \u001b[38;5;28;01mraise\u001b[39;00m \u001b[38;5;167;01mException\u001b[39;00m(\u001b[38;5;124m\"\u001b[39m\u001b[38;5;130;01m\\n\u001b[39;00m\u001b[38;5;124m\"\u001b[39m\u001b[38;5;241m.\u001b[39mjoin(error_messages))\n",
      "\u001b[0;31mException\u001b[0m: The following builds were found, but had missing dependencies. Only one valid platform is required to run AI2-THOR.\nPlatform Linux64 failed validation with the following errors: No valid X display found\n  Linux64 requires a X11 server to be running with GLX. If you have a NVIDIA GPU, please run: sudo ai2thor-xorg start"
     ]
    }
   ],
   "source": [
    "from ai2thor.controller import Controller\n",
    "controller = Controller()\n",
    "event = controller.step(\"MoveAhead\")"
   ]
  },
  {
   "cell_type": "code",
   "execution_count": null,
   "metadata": {},
   "outputs": [],
   "source": [
    "controller = Controller(platform=CloudRendering, # 无头模式\n",
    "            snapToGrid=False,\n",
    "            # headless=True,\n",
    "        #     # gpu_device=1,\n",
    "            quality='Medium', # 设置渲染质量 Medium\n",
    "            agentMode=\"default\", # 设置机器人模式 arm default drone locobot\n",
    "            massThreshold=None, # 设置质量阈值\n",
    "            scene=scene, # 设置场景\n",
    "            visibilityDistance=visibilityDistance, # 设置可见距离\n",
    "            gridSize=gridSize, # 设置网格大小\n",
    "            renderDepthImage=False, # 设置是否渲染深度图像\n",
    "            renderInstanceSegmentation=False, # 设置是否渲染实例分割图像\n",
    "        #     width=800, # 设置窗口宽度\n",
    "        #     height=450, # 设置窗口高度\n",
    "        #     fieldOfView=fieldOfView, # 设置视野\n",
    "        )"
   ]
  }
 ],
 "metadata": {
  "fileId": "95f5639e-5a4e-4b34-81c9-a7704e833391",
  "filePath": "/mnt/bn/lga/projects/os/DEV/verl/test.ipynb",
  "kernelspec": {
   "display_name": "verl",
   "language": "python",
   "name": "python3"
  },
  "language_info": {
   "codemirror_mode": {
    "name": "ipython",
    "version": 3
   },
   "file_extension": ".py",
   "mimetype": "text/x-python",
   "name": "python",
   "nbconvert_exporter": "python",
   "pygments_lexer": "ipython3",
   "version": "3.10.16"
  }
 },
 "nbformat": 4,
 "nbformat_minor": 2
}
